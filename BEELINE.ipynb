{
 "cells": [
  {
   "cell_type": "code",
   "execution_count": 1,
   "id": "a9fe9f90-22d7-40d7-8cf5-dac3b16889d0",
   "metadata": {},
   "outputs": [],
   "source": [
    "import DualNetM as dm\n",
    "import matplotlib.pyplot as plt\n",
    "import scanpy as sc\n",
    "import pandas as pd"
   ]
  },
  {
   "cell_type": "code",
   "execution_count": 2,
   "id": "89cb2a86-fa05-45da-a91d-f320139a90bf",
   "metadata": {},
   "outputs": [],
   "source": [
    "%matplotlib inline\n",
    "%config InlineBackend.figure_format = 'retina'\n",
    "plt.rcParams[\"savefig.dpi\"] = 300\n",
    "plt.rcParams[\"figure.figsize\"] = [6, 4.5]"
   ]
  },
  {
   "cell_type": "code",
   "execution_count": 26,
   "id": "74a56f39-3835-4ab6-b27c-a2c9ad79660f",
   "metadata": {},
   "outputs": [],
   "source": [
    "prior_network = dm.datasets.load_mouse_prior_network()\n",
    "adata = sc.read_csv ('/home/dbj/DeepRIG-main/Datasets/500_ChIP-seq_mHSC-GM/500_ChIP-seq_mHSC-GM-ExpressionData.csv')\n",
    "adata=adata.T"
   ]
  },
  {
   "cell_type": "code",
   "execution_count": 27,
   "id": "db22f2f3-9e86-4bdb-b7b8-be7580b377b0",
   "metadata": {},
   "outputs": [],
   "source": [
    "adata.var_names = adata.var_names.str.capitalize()"
   ]
  },
  {
   "cell_type": "code",
   "execution_count": 28,
   "id": "581f377b-1703-4755-8fdb-810839a4a9f8",
   "metadata": {},
   "outputs": [
    {
     "name": "stdout",
     "output_type": "stream",
     "text": [
      "Data loading and preprocessing....\n",
      "    15573 extra edges (Spearman correlation > 0) are added into the prior network.\n",
      "    Total number of edges: 32248.\n",
      " n_genes x n_cells =600 x 889\n"
     ]
    }
   ],
   "source": [
    "data = dm.data_preparation(adata, prior_network)"
   ]
  },
  {
   "cell_type": "code",
   "execution_count": 29,
   "id": "de36b1ff-6903-414a-9ef9-90acb4acefbd",
   "metadata": {},
   "outputs": [
    {
     "name": "stderr",
     "output_type": "stream",
     "text": [
      "  Iter: 1/1: 100%|███████████████| 340/340 [00:10<00:00, 33.23it/s, loss=0.00107, min_loss=0.000106]\n"
     ]
    }
   ],
   "source": [
    "DualNetM_GRN_model = dm.NetModel(epochs=340, cuda='0', seed=9)\n",
    "DualNetM_GRN_model.run(data)"
   ]
  },
  {
   "cell_type": "code",
   "execution_count": 33,
   "id": "a7eafcb3-aeeb-417a-b929-ce2f69425c42",
   "metadata": {},
   "outputs": [
    {
     "data": {
      "text/plain": [
       "<networkx.classes.digraph.DiGraph at 0x7fdd0d49a320>"
      ]
     },
     "execution_count": 33,
     "metadata": {},
     "output_type": "execute_result"
    }
   ],
   "source": [
    "DualNetM_GRN_model.get_network('/home/dbj/DeepRIG-main/Datasets/500_ChIP-seq_mHSC-GM')"
   ]
  },
  {
   "cell_type": "code",
   "execution_count": 44,
   "id": "51a46477-a20b-4ceb-bed8-a5fab214db6f",
   "metadata": {},
   "outputs": [],
   "source": [
    "GRN=pd.read_csv('/home/dbj/DeepRIG-main/Datasets/500_ChIP-seq_mHSC-GM/outputGRN.csv',header=0)\n",
    "GRN.columns = ['Gene1', 'Gene2', 'weights_combined']"
   ]
  },
  {
   "cell_type": "code",
   "execution_count": 45,
   "id": "8ebc4514-707b-4a76-8584-18529a34ef0d",
   "metadata": {},
   "outputs": [
    {
     "data": {
      "text/html": [
       "<div>\n",
       "<style scoped>\n",
       "    .dataframe tbody tr th:only-of-type {\n",
       "        vertical-align: middle;\n",
       "    }\n",
       "\n",
       "    .dataframe tbody tr th {\n",
       "        vertical-align: top;\n",
       "    }\n",
       "\n",
       "    .dataframe thead th {\n",
       "        text-align: right;\n",
       "    }\n",
       "</style>\n",
       "<table border=\"1\" class=\"dataframe\">\n",
       "  <thead>\n",
       "    <tr style=\"text-align: right;\">\n",
       "      <th></th>\n",
       "      <th>Gene1</th>\n",
       "      <th>Gene2</th>\n",
       "      <th>weights_combined</th>\n",
       "    </tr>\n",
       "  </thead>\n",
       "  <tbody>\n",
       "    <tr>\n",
       "      <th>0</th>\n",
       "      <td>Vdr</td>\n",
       "      <td>Ap3s1</td>\n",
       "      <td>1.255033</td>\n",
       "    </tr>\n",
       "    <tr>\n",
       "      <th>1</th>\n",
       "      <td>Vdr</td>\n",
       "      <td>Stxbp4</td>\n",
       "      <td>4.340764</td>\n",
       "    </tr>\n",
       "    <tr>\n",
       "      <th>2</th>\n",
       "      <td>Vdr</td>\n",
       "      <td>Ndrg1</td>\n",
       "      <td>4.733782</td>\n",
       "    </tr>\n",
       "    <tr>\n",
       "      <th>3</th>\n",
       "      <td>Vdr</td>\n",
       "      <td>Tbxas1</td>\n",
       "      <td>1.118022</td>\n",
       "    </tr>\n",
       "    <tr>\n",
       "      <th>4</th>\n",
       "      <td>Vdr</td>\n",
       "      <td>Smarca2</td>\n",
       "      <td>3.126126</td>\n",
       "    </tr>\n",
       "    <tr>\n",
       "      <th>...</th>\n",
       "      <td>...</td>\n",
       "      <td>...</td>\n",
       "      <td>...</td>\n",
       "    </tr>\n",
       "    <tr>\n",
       "      <th>32167</th>\n",
       "      <td>Ms4a6c</td>\n",
       "      <td>Ebf1</td>\n",
       "      <td>0.360613</td>\n",
       "    </tr>\n",
       "    <tr>\n",
       "      <th>32168</th>\n",
       "      <td>Ms4a6c</td>\n",
       "      <td>Tbxas1</td>\n",
       "      <td>0.246428</td>\n",
       "    </tr>\n",
       "    <tr>\n",
       "      <th>32169</th>\n",
       "      <td>Ms4a6c</td>\n",
       "      <td>Gria3</td>\n",
       "      <td>1.066971</td>\n",
       "    </tr>\n",
       "    <tr>\n",
       "      <th>32170</th>\n",
       "      <td>Ms4a6c</td>\n",
       "      <td>Ms4a3</td>\n",
       "      <td>0.371934</td>\n",
       "    </tr>\n",
       "    <tr>\n",
       "      <th>32171</th>\n",
       "      <td>Ms4a6c</td>\n",
       "      <td>Dok2</td>\n",
       "      <td>1.532811</td>\n",
       "    </tr>\n",
       "  </tbody>\n",
       "</table>\n",
       "<p>32172 rows × 3 columns</p>\n",
       "</div>"
      ],
      "text/plain": [
       "        Gene1    Gene2  weights_combined\n",
       "0         Vdr    Ap3s1          1.255033\n",
       "1         Vdr   Stxbp4          4.340764\n",
       "2         Vdr    Ndrg1          4.733782\n",
       "3         Vdr   Tbxas1          1.118022\n",
       "4         Vdr  Smarca2          3.126126\n",
       "...       ...      ...               ...\n",
       "32167  Ms4a6c     Ebf1          0.360613\n",
       "32168  Ms4a6c   Tbxas1          0.246428\n",
       "32169  Ms4a6c    Gria3          1.066971\n",
       "32170  Ms4a6c    Ms4a3          0.371934\n",
       "32171  Ms4a6c     Dok2          1.532811\n",
       "\n",
       "[32172 rows x 3 columns]"
      ]
     },
     "execution_count": 45,
     "metadata": {},
     "output_type": "execute_result"
    }
   ],
   "source": [
    "GRN"
   ]
  },
  {
   "cell_type": "code",
   "execution_count": 49,
   "id": "8eacdb96-1acc-4c24-bee4-38ae73eeed33",
   "metadata": {},
   "outputs": [],
   "source": [
    "True_GRN=pd.read_csv('/home/dbj/DeepRIG-main/Datasets/500_ChIP-seq_mHSC-GM/500_ChIP-seq_mHSC-GM-network.csv')\n",
    "True_GRN['Gene1']=True_GRN['Gene1'].str.capitalize()\n",
    "True_GRN['Gene2']=True_GRN['Gene2'].str.capitalize()"
   ]
  },
  {
   "cell_type": "code",
   "execution_count": 50,
   "id": "e0290aaa-7cf5-4e19-80e8-aee585275684",
   "metadata": {},
   "outputs": [
    {
     "data": {
      "text/html": [
       "<div>\n",
       "<style scoped>\n",
       "    .dataframe tbody tr th:only-of-type {\n",
       "        vertical-align: middle;\n",
       "    }\n",
       "\n",
       "    .dataframe tbody tr th {\n",
       "        vertical-align: top;\n",
       "    }\n",
       "\n",
       "    .dataframe thead th {\n",
       "        text-align: right;\n",
       "    }\n",
       "</style>\n",
       "<table border=\"1\" class=\"dataframe\">\n",
       "  <thead>\n",
       "    <tr style=\"text-align: right;\">\n",
       "      <th></th>\n",
       "      <th>Gene1</th>\n",
       "      <th>Gene2</th>\n",
       "      <th>Score</th>\n",
       "    </tr>\n",
       "  </thead>\n",
       "  <tbody>\n",
       "    <tr>\n",
       "      <th>0</th>\n",
       "      <td>Cbfb</td>\n",
       "      <td>Msh6</td>\n",
       "      <td>2386.0</td>\n",
       "    </tr>\n",
       "    <tr>\n",
       "      <th>1</th>\n",
       "      <td>Cbfb</td>\n",
       "      <td>Slc2a3</td>\n",
       "      <td>1502.0</td>\n",
       "    </tr>\n",
       "    <tr>\n",
       "      <th>2</th>\n",
       "      <td>Cbfb</td>\n",
       "      <td>Nfe2</td>\n",
       "      <td>2138.0</td>\n",
       "    </tr>\n",
       "    <tr>\n",
       "      <th>3</th>\n",
       "      <td>Cbfb</td>\n",
       "      <td>Arid5a</td>\n",
       "      <td>1700.0</td>\n",
       "    </tr>\n",
       "    <tr>\n",
       "      <th>4</th>\n",
       "      <td>Cbfb</td>\n",
       "      <td>Tmem229b</td>\n",
       "      <td>1785.0</td>\n",
       "    </tr>\n",
       "    <tr>\n",
       "      <th>...</th>\n",
       "      <td>...</td>\n",
       "      <td>...</td>\n",
       "      <td>...</td>\n",
       "    </tr>\n",
       "    <tr>\n",
       "      <th>7359</th>\n",
       "      <td>Wdr5</td>\n",
       "      <td>Pstpip1</td>\n",
       "      <td>113.0</td>\n",
       "    </tr>\n",
       "    <tr>\n",
       "      <th>7360</th>\n",
       "      <td>Wdr5</td>\n",
       "      <td>Rps6ka3</td>\n",
       "      <td>110.0</td>\n",
       "    </tr>\n",
       "    <tr>\n",
       "      <th>7361</th>\n",
       "      <td>Wdr5</td>\n",
       "      <td>Adgrg3</td>\n",
       "      <td>108.0</td>\n",
       "    </tr>\n",
       "    <tr>\n",
       "      <th>7362</th>\n",
       "      <td>Wdr5</td>\n",
       "      <td>Sell</td>\n",
       "      <td>105.0</td>\n",
       "    </tr>\n",
       "    <tr>\n",
       "      <th>7363</th>\n",
       "      <td>Wdr5</td>\n",
       "      <td>Myo1g</td>\n",
       "      <td>102.0</td>\n",
       "    </tr>\n",
       "  </tbody>\n",
       "</table>\n",
       "<p>7364 rows × 3 columns</p>\n",
       "</div>"
      ],
      "text/plain": [
       "     Gene1     Gene2   Score\n",
       "0     Cbfb      Msh6  2386.0\n",
       "1     Cbfb    Slc2a3  1502.0\n",
       "2     Cbfb      Nfe2  2138.0\n",
       "3     Cbfb    Arid5a  1700.0\n",
       "4     Cbfb  Tmem229b  1785.0\n",
       "...    ...       ...     ...\n",
       "7359  Wdr5   Pstpip1   113.0\n",
       "7360  Wdr5   Rps6ka3   110.0\n",
       "7361  Wdr5    Adgrg3   108.0\n",
       "7362  Wdr5      Sell   105.0\n",
       "7363  Wdr5     Myo1g   102.0\n",
       "\n",
       "[7364 rows x 3 columns]"
      ]
     },
     "execution_count": 50,
     "metadata": {},
     "output_type": "execute_result"
    }
   ],
   "source": [
    "True_GRN"
   ]
  },
  {
   "cell_type": "code",
   "execution_count": 52,
   "id": "66a58601-4c99-4f15-a3ef-65eed0815590",
   "metadata": {},
   "outputs": [],
   "source": [
    "TFs = set(True_GRN['Gene1'])\n",
    "Genes = set(True_GRN['Gene1'])| set(True_GRN['Gene2'])"
   ]
  },
  {
   "cell_type": "code",
   "execution_count": 54,
   "id": "effc7d68-08a2-4c59-93ad-2627ddf84e12",
   "metadata": {},
   "outputs": [
    {
     "name": "stdout",
     "output_type": "stream",
     "text": [
      "Calculating the EPR(early prediction rate)...\n",
      "  Consider only edges going out of source genes\n",
      "  7364 TF Edges in ground-truth\n",
      "  5720 Predicted TF edges are considered\n",
      "  5720 Top-k edges selected\n",
      "  4069 true-positive edges\n"
     ]
    },
    {
     "data": {
      "text/plain": [
       "1.0185162797065217"
      ]
     },
     "execution_count": 54,
     "metadata": {},
     "output_type": "execute_result"
    }
   ],
   "source": [
    "EPR=dm.eval_utils.EarlyPrec(trueEdgesDF=True_GRN,predEdgesDF=GRN)\n",
    "EPR"
   ]
  },
  {
   "cell_type": "code",
   "execution_count": 56,
   "id": "c91a0a73-3ed7-4362-9dec-3c0c35a9e375",
   "metadata": {},
   "outputs": [
    {
     "data": {
      "text/plain": [
       "(0.6904416318374993, 1.274748020975372)"
      ]
     },
     "execution_count": 56,
     "metadata": {},
     "output_type": "execute_result"
    }
   ],
   "source": [
    "AUPRC,AUPRC_ratio=dm.eval_utils.evaluateAUPRratio(output=GRN,label=True_GRN,TFs=TFs,Genes=Genes)\n",
    "AUPRC,AUPRC_ratio"
   ]
  },
  {
   "cell_type": "code",
   "execution_count": 58,
   "id": "f6571340-bd49-4e60-976c-bb89d5afef67",
   "metadata": {},
   "outputs": [
    {
     "data": {
      "text/plain": [
       "0.8921379396878073"
      ]
     },
     "execution_count": 58,
     "metadata": {},
     "output_type": "execute_result"
    }
   ],
   "source": [
    "AUROC=dm.eval_utils.evaluateAUROC(output=GRN,label=True_GRN)\n",
    "AUROC"
   ]
  },
  {
   "cell_type": "code",
   "execution_count": null,
   "id": "782e7817-fae6-4775-93d0-efc3d14f211d",
   "metadata": {},
   "outputs": [],
   "source": []
  }
 ],
 "metadata": {
  "kernelspec": {
   "display_name": "Python [conda env:py310]",
   "language": "python",
   "name": "conda-env-py310-py"
  },
  "language_info": {
   "codemirror_mode": {
    "name": "ipython",
    "version": 3
   },
   "file_extension": ".py",
   "mimetype": "text/x-python",
   "name": "python",
   "nbconvert_exporter": "python",
   "pygments_lexer": "ipython3",
   "version": "3.10.13"
  }
 },
 "nbformat": 4,
 "nbformat_minor": 5
}
